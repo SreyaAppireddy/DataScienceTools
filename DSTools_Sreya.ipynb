{
 "cells": [
  {
   "cell_type": "markdown",
   "metadata": {},
   "source": [
    "<center>\n",
    "    <img src=\"https://cf-courses-data.s3.us.cloud-object-storage.appdomain.cloud/IBMDeveloperSkillsNetwork-DS0105EN-SkillsNetwork/labs/Module2/images/SN_web_lightmode.png\" width=\"300\" alt=\"cognitiveclass.ai logo\">\n",
    "</center>\n"
   ]
  },
  {
   "cell_type": "markdown",
   "metadata": {},
   "source": [
    "#### Add your code below following the instructions given in the course\n"
   ]
  },
  {
   "cell_type": "markdown",
   "metadata": {},
   "source": [
    "# Data Science Tools and Ecosystem"
   ]
  },
  {
   "cell_type": "markdown",
   "metadata": {},
   "source": [
    "In this notebook, we summarize data science tools and ecosystem"
   ]
  },
  {
   "cell_type": "markdown",
   "metadata": {},
   "source": [
    "**Objectives:**\n",
    "* List of Languages used for Data Science.\n",
    "* List of common Library used for Data Science.\n",
    "* List of Populor Tools used in Data Science.\n",
    "* Introduction to Arithmatic Expression.\n",
    "* Introduction to Use of Markdown."
   ]
  },
  {
   "cell_type": "markdown",
   "metadata": {},
   "source": [
    "List of Data Science Languages used are:\n",
    "* Python\n",
    "* SQL\n",
    "* Java\n",
    "* Julia\n",
    "* R\n",
    "* Scala"
   ]
  },
  {
   "cell_type": "markdown",
   "metadata": {},
   "source": [
    "Commonly Used Libraries in Data Science are\n",
    "* Pandas\n",
    "* NumPy\n",
    "* keras\n",
    "* Sklearn\n",
    "* SciPy\n",
    "* Matplotlib"
   ]
  },
  {
   "cell_type": "markdown",
   "metadata": {},
   "source": [
    "Data Science Tools:\n",
    "\n",
    "|Data Science Tools | \n",
    "| --- | \n",
    "| Python |\n",
    "|  SQL |\n",
    "| R|"
   ]
  },
  {
   "cell_type": "markdown",
   "metadata": {},
   "source": [
    "### Below are some of examples of Arithmatic expression "
   ]
  },
  {
   "cell_type": "code",
   "execution_count": 2,
   "metadata": {},
   "outputs": [
    {
     "name": "stdout",
     "output_type": "stream",
     "text": [
      "Sum =   13\n",
      "Prod =  40\n",
      "Diff =  3\n"
     ]
    }
   ],
   "source": [
    "sum = 5+8\n",
    "print(\"Sum =  \",sum)\n",
    "prod = 5*8\n",
    "print(\"Prod = \",prod)\n",
    "diff= 8-5\n",
    "print(\"Diff = \", diff)"
   ]
  },
  {
   "cell_type": "code",
   "execution_count": 3,
   "metadata": {},
   "outputs": [
    {
     "data": {
      "text/plain": [
       "53"
      ]
     },
     "execution_count": 3,
     "metadata": {},
     "output_type": "execute_result"
    }
   ],
   "source": [
    "#This is a simpel arithmetic expression for multiply and addition\n",
    "\n",
    "(5*9)+8"
   ]
  },
  {
   "cell_type": "code",
   "execution_count": 4,
   "metadata": {},
   "outputs": [
    {
     "name": "stdout",
     "output_type": "stream",
     "text": [
      "Minutes =  200\n",
      "Hours =  3.3333333333333335\n"
     ]
    }
   ],
   "source": [
    "#Code for conversion of minutes to Hours\n",
    "\n",
    "minutes = 200\n",
    "hours = minutes/60\n",
    "print(\"Minutes = \", minutes)\n",
    "print(\"Hours = \", hours)"
   ]
  },
  {
   "cell_type": "markdown",
   "metadata": {},
   "source": [
    "## Author\n",
    "\n",
    "Appireddy Sreya"
   ]
  },
  {
   "cell_type": "code",
   "execution_count": null,
   "metadata": {},
   "outputs": [],
   "source": []
  }
 ],
 "metadata": {
  "kernelspec": {
   "display_name": "Python 3 (ipykernel)",
   "language": "python",
   "name": "python3"
  },
  "language_info": {
   "codemirror_mode": {
    "name": "ipython",
    "version": 3
   },
   "file_extension": ".py",
   "mimetype": "text/x-python",
   "name": "python",
   "nbconvert_exporter": "python",
   "pygments_lexer": "ipython3",
   "version": "3.9.12"
  }
 },
 "nbformat": 4,
 "nbformat_minor": 4
}
